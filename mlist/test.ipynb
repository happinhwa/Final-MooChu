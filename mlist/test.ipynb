{
 "cells": [
  {
   "cell_type": "code",
   "execution_count": null,
   "metadata": {},
   "outputs": [],
   "source": [
    "use mydb\n",
    "\n",
    "db.dropDatabase()\n",
    "\n",
    "use mydb\n",
    "\n",
    "show dbs\n",
    "\n",
    "db.test_col.insert({\"name\": \"MongoDB Tutorial\", \"author\": \"aaa\"})\n",
    "\n",
    "db.createUser(\n",
    "  {\n",
    "    user: \"python\",\n",
    "    pwd: \"python\",\n",
    "    roles: [ { role: \"readWrite\", db: \"mydb\" } ]\n",
    "  }\n",
    ")\n",
    "db.auth(\"python\",\"python\") # 1이 나와야 계정이 잘 만들어진 것임"
   ]
  }
 ],
 "metadata": {
  "language_info": {
   "name": "python"
  },
  "orig_nbformat": 4
 },
 "nbformat": 4,
 "nbformat_minor": 2
}
